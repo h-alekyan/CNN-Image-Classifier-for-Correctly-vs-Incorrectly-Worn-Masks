{
 "cells": [
  {
   "cell_type": "code",
   "execution_count": 2,
   "metadata": {},
   "outputs": [
    {
     "name": "stdout",
     "output_type": "stream",
     "text": [
      "Epoch 1/5\n",
      "107/107 [==============================] - 75s 703ms/step - loss: 0.5103 - accuracy: 0.7457 - val_loss: 0.2106 - val_accuracy: 0.9081\n",
      "Epoch 2/5\n",
      "107/107 [==============================] - 79s 741ms/step - loss: 0.1715 - accuracy: 0.9331 - val_loss: 0.1427 - val_accuracy: 0.9449\n",
      "Epoch 3/5\n",
      "107/107 [==============================] - 81s 757ms/step - loss: 0.1043 - accuracy: 0.9600 - val_loss: 0.1029 - val_accuracy: 0.9580\n",
      "Epoch 4/5\n",
      "107/107 [==============================] - 78s 727ms/step - loss: 0.0800 - accuracy: 0.9693 - val_loss: 0.1069 - val_accuracy: 0.9633\n",
      "Epoch 5/5\n",
      "107/107 [==============================] - 80s 745ms/step - loss: 0.0677 - accuracy: 0.9763 - val_loss: 0.0824 - val_accuracy: 0.9633\n"
     ]
    },
    {
     "data": {
      "text/plain": [
       "<tensorflow.python.keras.callbacks.History at 0x1950071a518>"
      ]
     },
     "execution_count": 2,
     "metadata": {},
     "output_type": "execute_result"
    }
   ],
   "source": [
    "\"\"\"\n",
    "The actual CNN along with the checker function which takes the path of the image as a string \n",
    "and tells if the mask is worn correctly or not.\n",
    "\"\"\"\n",
    "\n",
    "import cv2\n",
    "import matplotlib.pyplot as plt\n",
    "import tensorflow as tf\n",
    "from tensorflow.keras.datasets import cifar10\n",
    "from tensorflow.keras.preprocessing.image import ImageDataGenerator\n",
    "from tensorflow.keras.models import Sequential\n",
    "from tensorflow.keras.layers import Dense, Dropout, Activation, Flatten\n",
    "from tensorflow.keras.layers import Conv2D, MaxPooling2D\n",
    "import numpy as np\n",
    "\n",
    "\n",
    "\n",
    "import pickle\n",
    "\n",
    "# defining img size for the checker function\n",
    "IMG_SIZE = 50\n",
    "\n",
    "# importing the pickled data (probably will need to use a different method if the dataset is too big, \n",
    "# I'm using pickle because my dataset is relatively smaller)\n",
    "pickle_in = open(\"X.pickle\",\"rb\")\n",
    "X = pickle.load(pickle_in)\n",
    "\n",
    "pickle_in = open(\"y.pickle\",\"rb\")\n",
    "y = pickle.load(pickle_in)\n",
    "\n",
    "\n",
    "X = np.array(X/255.0) # Normalizing the data (could use utils.normalize() but since we're dealing with graysclaed photos, dividing by 225 also works)\n",
    "y = np.array(y)\n",
    "\n",
    "model = Sequential()\n",
    "\n",
    "# adding 2 conv2d layers \n",
    "model.add(Conv2D(256, (3, 3), input_shape=X.shape[1:]))\n",
    "model.add(Activation('relu'))\n",
    "model.add(MaxPooling2D(pool_size=(2, 2)))\n",
    "\n",
    "\n",
    "\n",
    "model.add(Conv2D(256, (3, 3)))\n",
    "model.add(Activation('relu'))\n",
    "model.add(MaxPooling2D(pool_size=(2, 2)))\n",
    "\n",
    "\n",
    "# flattening the dataset to make it ready for the dense layer\n",
    "model.add(Flatten())  \n",
    "\n",
    "\n",
    "model.add(Dense(64))\n",
    "\n",
    "model.add(Dense(1))\n",
    "model.add(Activation('sigmoid'))\n",
    "\n",
    "model.compile(loss='binary_crossentropy',\n",
    "              optimizer='adam',\n",
    "              metrics=['accuracy'])\n",
    "\n",
    "model.fit(X, y, batch_size=32, epochs=5, validation_split=0.1)"
   ]
  },
  {
   "cell_type": "code",
   "execution_count": 14,
   "metadata": {},
   "outputs": [],
   "source": [
    "# The checker function for telling whether the person in the photo is wearing mask correctly or not\n",
    "def checker(img_path):\n",
    "    check_image = cv2.imread(img_path, cv2.IMREAD_GRAYSCALE)\n",
    "    check_image_resized = cv2.resize(check_image, (IMG_SIZE, IMG_SIZE))\n",
    "    check_image_ready = np.array(check_image_resized).reshape(-1, IMG_SIZE, IMG_SIZE, 1)\n",
    "    \n",
    "    result = model.predict(check_image_ready)\n",
    "    if result[0][0] > 0.5:\n",
    "        print(\"Mask is worn incorrectly\")\n",
    "    elif result[0][0] < 0.5:\n",
    "        print(\"Mask is worn correctly\")\n",
    "        "
   ]
  },
  {
   "cell_type": "code",
   "execution_count": 15,
   "metadata": {},
   "outputs": [
    {
     "name": "stdout",
     "output_type": "stream",
     "text": [
      "Mask is worn correctly\n"
     ]
    }
   ],
   "source": [
    "checker(\"test_cor.jpg\")"
   ]
  },
  {
   "cell_type": "code",
   "execution_count": 16,
   "metadata": {},
   "outputs": [
    {
     "name": "stdout",
     "output_type": "stream",
     "text": [
      "Mask is worn incorrectly\n"
     ]
    }
   ],
   "source": [
    "checker(\"test_incor.jpg\")"
   ]
  },
  {
   "cell_type": "code",
   "execution_count": 17,
   "metadata": {},
   "outputs": [
    {
     "name": "stdout",
     "output_type": "stream",
     "text": [
      "Mask is worn incorrectly\n"
     ]
    }
   ],
   "source": [
    "checker(\"test_incor2.jpg\")"
   ]
  },
  {
   "cell_type": "code",
   "execution_count": 13,
   "metadata": {},
   "outputs": [],
   "source": []
  },
  {
   "cell_type": "code",
   "execution_count": null,
   "metadata": {},
   "outputs": [],
   "source": []
  },
  {
   "cell_type": "code",
   "execution_count": null,
   "metadata": {},
   "outputs": [],
   "source": []
  }
 ],
 "metadata": {
  "kernelspec": {
   "display_name": "Python 3",
   "language": "python",
   "name": "python3"
  },
  "language_info": {
   "codemirror_mode": {
    "name": "ipython",
    "version": 3
   },
   "file_extension": ".py",
   "mimetype": "text/x-python",
   "name": "python",
   "nbconvert_exporter": "python",
   "pygments_lexer": "ipython3",
   "version": "3.7.3"
  }
 },
 "nbformat": 4,
 "nbformat_minor": 4
}
